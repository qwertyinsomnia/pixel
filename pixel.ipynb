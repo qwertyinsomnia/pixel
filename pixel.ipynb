{
 "cells": [
  {
   "cell_type": "code",
   "execution_count": 51,
   "metadata": {},
   "outputs": [
    {
     "name": "stdout",
     "output_type": "stream",
     "text": [
      "4032 3024 RGB\n"
     ]
    }
   ],
   "source": [
    "from PIL import Image, ImageDraw\n",
    "\n",
    "img = Image.open(\"1.png\")\n",
    "pixels = img.load()\n",
    "# img.show()\n",
    "# img.save(\"1.png\")\n",
    "\n",
    "width, height = img.size\n",
    "print(width, height, img.mode)\n",
    "# r ,g ,b, a = img.split()\n",
    "\n",
    "pixel_size = 2\n",
    "\n",
    "rows = 200\n",
    "cols = 150\n",
    "start = 0\n",
    "\n",
    "mapping = [[[0, 0, 0] for i in range(cols)] for j in range(rows)]\n",
    "for i in range(start, start + rows):\n",
    "    for j in range(start, start + cols):\n",
    "        # r, g, b, a = pixels[i * pixel_size + pixel_size // 2, j * pixel_size + pixel_size // 2]\n",
    "        r, g, b = pixels[i * pixel_size + pixel_size // 2, j * pixel_size + pixel_size // 2]\n",
    "        # print(r, g, b)\n",
    "        mapping[i - start][j - start] = (r, g, b)\n",
    "\n",
    "new_pixel_size = 10\n",
    "\n",
    "new_img = Image.new(\"RGB\", (rows * new_pixel_size, cols * new_pixel_size), (255,255,255))\n",
    "draw = ImageDraw.Draw(new_img)\n",
    "\n",
    "for i in range(rows):\n",
    "    for j in range(cols):\n",
    "        draw.rectangle(((i * new_pixel_size, j * new_pixel_size, (i + 1) * new_pixel_size, (j + 1) * new_pixel_size)), fill=mapping[i][j])\n",
    "        # print((i * new_pixel_size, j * new_pixel_size, (i + 1) * new_pixel_size, (j + 1) * new_pixel_size), mapping[i][j])\n",
    "\n",
    "new_img.show()\n",
    "new_img.save(\"out.jpg\")\n"
   ]
  },
  {
   "cell_type": "code",
   "execution_count": null,
   "metadata": {},
   "outputs": [],
   "source": []
  }
 ],
 "metadata": {
  "kernelspec": {
   "display_name": "Python 3",
   "language": "python",
   "name": "python3"
  },
  "language_info": {
   "codemirror_mode": {
    "name": "ipython",
    "version": 3
   },
   "file_extension": ".py",
   "mimetype": "text/x-python",
   "name": "python",
   "nbconvert_exporter": "python",
   "pygments_lexer": "ipython3",
   "version": "3.11.3"
  },
  "orig_nbformat": 4
 },
 "nbformat": 4,
 "nbformat_minor": 2
}
